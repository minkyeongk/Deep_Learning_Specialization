{
  "nbformat": 4,
  "nbformat_minor": 0,
  "metadata": {
    "colab": {
      "name": "1) Week1. Logistic Regression with a Neural Network mindset.ipynb",
      "provenance": [],
      "collapsed_sections": [],
      "authorship_tag": "ABX9TyPzU4cHP+l9a2L+VchtaekG",
      "include_colab_link": true
    },
    "kernelspec": {
      "name": "python3",
      "display_name": "Python 3"
    },
    "accelerator": "GPU"
  },
  "cells": [
    {
      "cell_type": "markdown",
      "metadata": {
        "id": "view-in-github",
        "colab_type": "text"
      },
      "source": [
        "<a href=\"https://colab.research.google.com/github/minkyeongk/Deep_Learning_Specialization/blob/main/1.%20Neural%20Network%20and%20Deep%20Learning/week%202.%20Neural%20Networks%20Basics/%20week_2_Logistic_Regression_with_a_Neural_Network_mindset.ipynb\" target=\"_parent\"><img src=\"https://colab.research.google.com/assets/colab-badge.svg\" alt=\"Open In Colab\"/></a>"
      ]
    },
    {
      "cell_type": "markdown",
      "metadata": {
        "id": "_YoEvf8KVcQe"
      },
      "source": [
        "# Logistic Regression with a Neural Network mindset\r\n",
        "\r\n",
        "명시되어 있지 않은 경우 loop 사용 금지 \r\n",
        "\r\n",
        "\r\n",
        "learning algorithm의 일반적인 구조 생성  \r\n",
        "> 패러미터 초기화 \r\n",
        "\r\n",
        "> cost function과 함수의 gradient 계산 (forward and back propagation)\r\n",
        "\r\n",
        "> 최적화 알고리즘 적용 (gradient descent)"
      ]
    },
    {
      "cell_type": "code",
      "metadata": {
        "id": "2VdX7s0SY0zh"
      },
      "source": [
        "# tmp에 저장해서 사용하면 필요 없음 \r\n",
        "#from google.colab import drive \r\n",
        "#drive.mount('/content/gdrive')"
      ],
      "execution_count": 10,
      "outputs": []
    },
    {
      "cell_type": "code",
      "metadata": {
        "id": "HkBTSyt8VWFr"
      },
      "source": [
        "import numpy as np                # 행렬, 과학적 계산 \r\n",
        "import matplotlib.pyplot as plt   # plot graph\r\n",
        "import h5py                       # h5 파일로 저장된 데이터셋\r\n",
        "import scipy                      # 수학 라이브러리, 자체 테스트에 사용\r\n",
        "from PIL import Image           # 이미지 라이브러리 \r\n",
        "from scipy import ndimage\r\n",
        "\r\n",
        "#from lr_utils import load_dataset\r\n",
        "def load_dataset():\r\n",
        "    # 자체 모듈은 함수 자체를 이렇게 옮겨와서 사용 \r\n",
        "    # 데이터는 tmp에 저장해 사용 \r\n",
        "    train_dataset = h5py.File('/tmp/train_catvnoncat.h5', \"r\")\r\n",
        "    train_set_x_orig = np.array(train_dataset[\"train_set_x\"][:]) # your train set features\r\n",
        "    train_set_y_orig = np.array(train_dataset[\"train_set_y\"][:]) # your train set labels\r\n",
        "\r\n",
        "    test_dataset = h5py.File('/tmp/test_catvnoncat.h5', \"r\")\r\n",
        "    test_set_x_orig = np.array(test_dataset[\"test_set_x\"][:]) # your test set features\r\n",
        "    test_set_y_orig = np.array(test_dataset[\"test_set_y\"][:]) # your test set labels\r\n",
        "\r\n",
        "    classes = np.array(test_dataset[\"list_classes\"][:]) # the list of classes\r\n",
        "    \r\n",
        "    train_set_y_orig = train_set_y_orig.reshape((1, train_set_y_orig.shape[0]))\r\n",
        "    test_set_y_orig = test_set_y_orig.reshape((1, test_set_y_orig.shape[0]))\r\n",
        "    \r\n",
        "    return train_set_x_orig, train_set_y_orig, test_set_x_orig, test_set_y_orig, classes\r\n",
        "\r\n",
        "% matplotlib inline "
      ],
      "execution_count": 11,
      "outputs": []
    },
    {
      "cell_type": "code",
      "metadata": {
        "id": "wfyHcktuXN05"
      },
      "source": [
        "# 고양이(1)/ 고양이가 아닌것(0) \r\n",
        "# shape = (num_px, num_px, 3)\r\n",
        "# height, width, color channel(3, RGB), 가로 세로 사이즈 동일  \r\n",
        "\r\n",
        "# 데이터 불러오기 \r\n",
        "train_set_x_orig, train_set_y, test_set_x_orig, test_set_y, classes = load_dataset()"
      ],
      "execution_count": 12,
      "outputs": []
    },
    {
      "cell_type": "code",
      "metadata": {
        "colab": {
          "base_uri": "https://localhost:8080/",
          "height": 285
        },
        "id": "URmaIgshXWTa",
        "outputId": "f8a7d979-f236-4003-d300-e2dd8fb094b2"
      },
      "source": [
        "index = 25\r\n",
        "plt.imshow(train_set_x_orig[index])\r\n",
        "#print(train_set_y.shape)    # train sets 각 데이터의 레이블 \r\n",
        "#print(np.squeeze(train_set_y[:, index]))    # squeeze 1차원인 축을 제거, 여기서는 괄호 벗기는 용도 정도 \r\n",
        "print(\"y=\" + str(train_set_y[:,index]) + \", its a '\"+ classes[np.squeeze(train_set_y[:, index])].decode(\"utf-8\") + \"' picture.\" )\r\n",
        "# [:, a]는 a번째 열을 나타냄 "
      ],
      "execution_count": 13,
      "outputs": [
        {
          "output_type": "stream",
          "text": [
            "y=[1], its a 'cat' picture.\n"
          ],
          "name": "stdout"
        },
        {
          "output_type": "display_data",
          "data": {
            "image/png": "[encoded data removed]",
            "text/plain": [
              "<Figure size 432x288 with 1 Axes>"
            ]
          },
          "metadata": {
            "tags": [],
            "needs_background": "light"
          }
        }
      ]
    },
    {
      "cell_type": "code",
      "metadata": {
        "colab": {
          "base_uri": "https://localhost:8080/"
        },
        "id": "1qVrL4dGmbvU",
        "outputId": "efa28583-2fd8-49fc-adfb-1c667aac595e"
      },
      "source": [
        "# 많은 버그는 매트릭스 dimension이 fit 하지 않아 발생 \r\n",
        "m_train = train_set_y.shape[1]    # shape 함수 \r\n",
        "#print(train_set_y)   #(1, 209), [[데이터 209개]]의 형태 \r\n",
        "m_test = test_set_y.shape[1]\r\n",
        "num_px = train_set_x_orig.shape[1]\r\n",
        "#print(train_set_x_orig.shape)  #(이미지 개수, num_px, num_px, RGB)\r\n",
        "\r\n",
        "print (\"Number of training examples: m_train = \" + str(m_train))\r\n",
        "print (\"Number of testing examples: m_test = \" + str(m_test))\r\n",
        "print (\"Height/Width of each image: num_px = \" + str(num_px))\r\n",
        "print (\"Each image is of size: (\" + str(num_px) + \", \" + str(num_px) + \", 3)\")\r\n",
        "print (\"train_set_x shape: \" + str(train_set_x_orig.shape))\r\n",
        "print (\"train_set_y shape: \" + str(train_set_y.shape))\r\n",
        "print (\"test_set_x shape: \" + str(test_set_x_orig.shape))\r\n",
        "print (\"test_set_y shape: \" + str(test_set_y.shape))"
      ],
      "execution_count": 14,
      "outputs": [
        {
          "output_type": "stream",
          "text": [
            "Number of training examples: m_train = 209\n",
            "Number of testing examples: m_test = 50\n",
            "Height/Width of each image: num_px = 64\n",
            "Each image is of size: (64, 64, 3)\n",
            "train_set_x shape: (209, 64, 64, 3)\n",
            "train_set_y shape: (1, 209)\n",
            "test_set_x shape: (50, 64, 64, 3)\n",
            "test_set_y shape: (1, 50)\n"
          ],
          "name": "stdout"
        }
      ]
    },
    {
      "cell_type": "code",
      "metadata": {
        "colab": {
          "base_uri": "https://localhost:8080/"
        },
        "id": "urN7JA4FmdLF",
        "outputId": "fe7e8dfd-b4fc-4cfc-c18b-53040ca26bbd"
      },
      "source": [
        "# reshape images > (이미지 개수, num_px, num_px, 3) to (num_px * num_px * 3, 이미지 개수)\r\n",
        "# 각 열, column이 flatten된 이미지, 이미지를 horizontal 하게 쌓음 \r\n",
        "\r\n",
        "train_set_x_flatten = train_set_x_orig.reshape(train_set_x_orig.shape[0], -1).T \r\n",
        "test_set_x_flatten = test_set_x_orig.reshape(test_set_x_orig.shape[0], -1).T\r\n",
        "# T > transpose: 역치 행렬, -1 넣어줌으로써 크기 이외의 나머지 차원 \r\n",
        "# (a,b,c,d) to a matrix X_flatten of shape (b * c * d, a) \r\n",
        "\r\n",
        "print (\"train_set_x_flatten shape: \" + str(train_set_x_flatten.shape))\r\n",
        "print (\"train_set_y shape: \" + str(train_set_y.shape))\r\n",
        "print (\"test_set_x_flatten shape: \" + str(test_set_x_flatten.shape))\r\n",
        "print (\"test_set_y shape: \" + str(test_set_y.shape))\r\n",
        "print (\"sanity check after reshaping: \" + str(train_set_x_flatten[0:5,0]))"
      ],
      "execution_count": 15,
      "outputs": [
        {
          "output_type": "stream",
          "text": [
            "train_set_x_flatten shape: (12288, 209)\n",
            "train_set_y shape: (1, 209)\n",
            "test_set_x_flatten shape: (12288, 50)\n",
            "test_set_y shape: (1, 50)\n",
            "sanity check after reshaping: [17 31 56 22 33]\n"
          ],
          "name": "stdout"
        }
      ]
    },
    {
      "cell_type": "code",
      "metadata": {
        "id": "qstbgVctC90t"
      },
      "source": [
        "# center and standardize dataset, 데이터 셋을 중앙집중화, 표준화 (평균 0, 표준편차 1)\r\n",
        "# 원래는 각 example에서 전체 숫자 배열의 평균을 빼낸 다음 각 example을 전체 숫자 배열의 표준 편차로 나눈다\r\n",
        "# 이미지 데이터에 한해 픽셀 채널의 maximum value인 255로 나눔으로써 표준화 수행 가능 > 0부터 255\r\n",
        "\r\n",
        "train_set_x = train_set_x_flatten / 255.\r\n",
        "test_set_x = test_set_x_flatten / 255."
      ],
      "execution_count": 16,
      "outputs": []
    },
    {
      "cell_type": "markdown",
      "metadata": {
        "id": "Dz8TBra7EFay"
      },
      "source": [
        "Data Preprocessing \r\n",
        "\r\n",
        "1. Figure out the dimensions and shapes of the problem (m_train, m_test, num_px, ...) > 차원과 모양에 대한 이해 \r\n",
        "\r\n",
        "2. Reshape the datasets such that each example is now a vector of size (num_px * num_px * 3, 1) > vectorization, flatten\r\n",
        "\r\n",
        "3. \"Standardize\" the data > 표준화 "
      ]
    },
    {
      "cell_type": "markdown",
      "metadata": {
        "id": "K8-O8K7KV82Q"
      },
      "source": [
        "# 가장 심플한 NN인 Logistic Regression \n",
        "벡터화된 이미지값을 값별로 standardize하여 가중치 w[i]와 곱 > 시그모이드 취해 이진 분류 \n",
        "\n",
        "cnn이었으면 특정 부분의 feature를 공통으로 적용할 수 있었을 텐데 이건 그게 안됨  "
      ]
    },
    {
      "cell_type": "code",
      "metadata": {
        "id": "1buqHQ-BEQQ1"
      },
      "source": [
        "def sigmoid(z):\r\n",
        "  s = 1 / (1 + np.exp(-z))  # np.exp(n): 자연 상수 2의 n제곱\r\n",
        "  return s "
      ],
      "execution_count": 17,
      "outputs": []
    },
    {
      "cell_type": "code",
      "metadata": {
        "colab": {
          "base_uri": "https://localhost:8080/"
        },
        "id": "MmWXr_Y5WIF2",
        "outputId": "a8910037-2265-461b-8f6f-03b6cd88d5aa"
      },
      "source": [
        "print(sigmoid(0))\n",
        "print(sigmoid(9.2))"
      ],
      "execution_count": 18,
      "outputs": [
        {
          "output_type": "stream",
          "text": [
            "0.5\n",
            "0.9998989708060922\n"
          ],
          "name": "stdout"
        }
      ]
    },
    {
      "cell_type": "code",
      "metadata": {
        "id": "W862YjdJjp8M"
      },
      "source": [
        "# initialize parameter \n",
        "\n",
        "def initialize_with_zero(dim):\n",
        "  # w를 초기화하기 위해 (dim, 1) shape의 벡터 생성, b를 0으로 초기화 \n",
        "\n",
        "  w = np.zeros(shape=(dim, 1))\n",
        "  b = 0\n",
        "\n",
        "  assert(w.shape == (dim, 1))   # assert: 가정설정문, 일종의 예외처리, 해당 구문과 일치하지 않으면 assertion error 반환 \n",
        "  assert(isinstance(b, float) or isinstance(b, int))    # isinstance(인스턴스, 자료형): 인스턴스가 뒤에 나오는 자료형 또는 클래스인지 확인하여 Bool 반환 \n",
        "\n",
        "  return w, b"
      ],
      "execution_count": 24,
      "outputs": []
    },
    {
      "cell_type": "code",
      "metadata": {
        "colab": {
          "base_uri": "https://localhost:8080/"
        },
        "id": "j_QjW07olo-L",
        "outputId": "903697b6-7ee5-4376-ec2c-3e75198fab34"
      },
      "source": [
        "dim = 2\n",
        "w, b = initialize_with_zero(dim)\n",
        "print(w, b)"
      ],
      "execution_count": 25,
      "outputs": [
        {
          "output_type": "stream",
          "text": [
            "[[0.]\n",
            " [0.]] 0\n"
          ],
          "name": "stdout"
        }
      ]
    },
    {
      "cell_type": "code",
      "metadata": {
        "id": "2LfTor_9mD2A"
      },
      "source": [
        "def propagate(w, b, X, Y):\n",
        "  # implement cost function and its gradient for the propagation\n",
        "  # 네 인자 모두 모든 example의 내용을 포함하는 행렬 \n",
        "\n",
        "  m = X.shape[1]  # number of example \n",
        "\n",
        "  # 시그마는 np.sum으로 일괄 처리 \n",
        "  a = sigmoid(np.dot(w.T, X) + b)\n",
        "  cost = (-1/m) * np.sum(Y * np.log(a) + (1-Y) * np.log(1 - a))\n",
        "  #print(cost.shape)\n",
        "  dw = (1/m) * np.dot(X, (a - Y).T)\n",
        "  db = (1/m) * np.sum(a - Y)\n",
        "\n",
        "  assert(dw.shape == w.shape)\n",
        "  assert(db.dtype == float)\n",
        "  cost = np.squeeze(cost)   # 이게 어떻게 나오는지 확인하기 \n",
        "  assert(cost.shape == ())\n",
        "  #print(cost.shape)\n",
        "  grads = {'dw': dw, 'db': db}\n",
        "\n",
        "  return grads, cost"
      ],
      "execution_count": 35,
      "outputs": []
    },
    {
      "cell_type": "code",
      "metadata": {
        "colab": {
          "base_uri": "https://localhost:8080/"
        },
        "id": "Bn4tI4zppGpY",
        "outputId": "e090db41-7775-4964-839d-368f0dd6d40a"
      },
      "source": [
        "w, b, X, Y = np.array([[1],[2]]), 2, np.array([[1, 2], [3, 4]]), np.array([[1, 0]])\n",
        "grads, cost = propagate(w, b, X, Y)\n",
        "print(grads['dw'])\n",
        "print(grads['db'])\n",
        "print(cost)"
      ],
      "execution_count": 36,
      "outputs": [
        {
          "output_type": "stream",
          "text": [
            "[[0.99993216]\n",
            " [1.99980262]]\n",
            "0.49993523062470574\n",
            "6.000064773192205\n"
          ],
          "name": "stdout"
        }
      ]
    },
    {
      "cell_type": "code",
      "metadata": {
        "id": "8UWAQLfsqUdS"
      },
      "source": [
        "# optimization > gradient descent \n",
        "\n",
        "def optimize(w, b, X, Y, num_iterations, learning_rate, print_cost = False):\n",
        "  # num_iterations > optimize 횟수 \n",
        "  # print_cost > 100 스텝마다 loss 출력 \n",
        "\n",
        "  # 반환\n",
        "  # params > w, b directory \n",
        "  # grads > dw, db directory \n",
        "  # costs > 최적화동안 계산한 모든 costs \n",
        "  costs = []\n",
        "\n",
        "  for i in range(num_iterations):\n",
        "    grads, cost = propagate(w, b, X, Y) \n",
        "    w = w - learning_rate * grads['dw']   # broadcast, -= 안되는 이유 (Cannot cast ufunc 'subtract' output from dtype('float64') to dtype('int64') with casting rule 'same_kind')\n",
        "    b = b - learning_rate * grads['db']\n",
        "\n",
        "    if i % 100 == 0:\n",
        "      costs.append(cost)\n",
        "      if print_cost:\n",
        "        print(i, cost)\n",
        "\n",
        "  params = {'w': w, 'b': b}\n",
        "  \n",
        "  return params, grads, costs\n"
      ],
      "execution_count": 44,
      "outputs": []
    },
    {
      "cell_type": "code",
      "metadata": {
        "colab": {
          "base_uri": "https://localhost:8080/"
        },
        "id": "j1poSkdYqdng",
        "outputId": "1fc6f3c3-b5f6-491a-b014-ada487029687"
      },
      "source": [
        "params, grads, costs = optimize(w, b, X, Y, num_iterations= 100, learning_rate = 0.009, print_cost = False)\n",
        "\n",
        "print (\"w = \" + str(params[\"w\"]))\n",
        "print (\"b = \" + str(params[\"b\"]))\n",
        "print (\"dw = \" + str(grads[\"dw\"]))\n",
        "print (\"db = \" + str(grads[\"db\"]))"
      ],
      "execution_count": 45,
      "outputs": [
        {
          "output_type": "stream",
          "text": [
            "w = [[0.1124579 ]\n",
            " [0.23106775]]\n",
            "b = 1.5593049248448891\n",
            "dw = [[0.90158428]\n",
            " [1.76250842]]\n",
            "db = 0.4304620716786828\n"
          ],
          "name": "stdout"
        }
      ]
    },
    {
      "cell_type": "code",
      "metadata": {
        "id": "Uecm2P7vtxEF"
      },
      "source": [
        "# 예측하고 값을 0.5를 기준으로 0 또는 1로 바꾸기 \n",
        "# w와 b가 조정된 이후 예측할 때 사용하는 함수 \n",
        "\n",
        "def predict(w, b, X):\n",
        "  # 반환: Y_prediction\n",
        "\n",
        "  m = X.shape[1]\n",
        "  Y_prediction = np.zeros((1, m))\n",
        "  #print(w.shape)\n",
        "  w = w.reshape(X.shape[0], 1)    # w가 X와 같은 형태(개수)를 띄고 있지 않을 때를 대비 \n",
        "  #print(w.shape)\n",
        "\n",
        "  A = sigmoid(np.dot(w.T, X) + b)\n",
        "\n",
        "  for i in range(A.shape[1]):\n",
        "    Y_prediction[0, i] = 1 if A[0, i] > 0.5 else 0\n",
        "\n",
        "  assert(Y_prediction.shape == (1, m))\n",
        "\n",
        "  return Y_prediction"
      ],
      "execution_count": 49,
      "outputs": []
    },
    {
      "cell_type": "code",
      "metadata": {
        "colab": {
          "base_uri": "https://localhost:8080/"
        },
        "id": "si3LAuswuaNU",
        "outputId": "9ab6b015-d7ee-4e89-d4bc-5fb903873e8d"
      },
      "source": [
        "print(predict(w, b, X))"
      ],
      "execution_count": 50,
      "outputs": [
        {
          "output_type": "stream",
          "text": [
            "[[1. 1.]]\n"
          ],
          "name": "stdout"
        }
      ]
    },
    {
      "cell_type": "code",
      "metadata": {
        "id": "dIJWvegtv8om"
      },
      "source": [
        "# 모든 기능을 모아 하나의 이진 분류 모델 생성\n",
        "\n",
        "def model(X_train, Y_train, X_test, Y_test, num_iterations=2000, learning_rate=0.5, print_cost=False):\n",
        "  # initialize w, b to zero \n",
        "  w, b = initialize_with_zero(X_train.shape[0])\n",
        "\n",
        "  # gradient descent \n",
        "  params, grads, costs = optimize(w, b, X_train, Y_train, num_iterations, learning_rate, print_cost)\n",
        "  w = params['w']\n",
        "  b = params['b']\n",
        "\n",
        "  Y_prediction_test = predict(w, b, X_test)\n",
        "  Y_prediction_train = predict(w, b, X_train)\n",
        "\n",
        "  print(\"train accuracy: {} %\".format(100 - np.mean(np.abs(Y_prediction_train - Y_train)) * 100))\n",
        "  print(\"test accuracy: {} %\".format(100 - np.mean(np.abs(Y_prediction_test - Y_test)) * 100))\n",
        "\n",
        "    \n",
        "  d = {\"costs\": costs,\n",
        "        \"Y_prediction_test\": Y_prediction_test, \n",
        "        \"Y_prediction_train\" : Y_prediction_train, \n",
        "        \"w\" : w, \n",
        "        \"b\" : b,\n",
        "        \"learning_rate\" : learning_rate,\n",
        "        \"num_iterations\": num_iterations}\n",
        "    \n",
        "  return d"
      ],
      "execution_count": 54,
      "outputs": []
    },
    {
      "cell_type": "code",
      "metadata": {
        "colab": {
          "base_uri": "https://localhost:8080/"
        },
        "id": "You2LePtxcSW",
        "outputId": "26833bdd-ea6a-473a-c1a3-9d2baf5799a1"
      },
      "source": [
        "# 최적화 횟수와 cost값 출력 \n",
        "d = model(train_set_x, train_set_y, test_set_x, test_set_y, num_iterations = 2000, learning_rate = 0.005, print_cost = True)"
      ],
      "execution_count": 55,
      "outputs": [
        {
          "output_type": "stream",
          "text": [
            "0 0.6931471805599453\n",
            "100 0.5845083636993086\n",
            "200 0.46694904094655476\n",
            "300 0.37600686694802077\n",
            "400 0.3314632893282512\n",
            "500 0.30327306747438293\n",
            "600 0.27987958658260487\n",
            "700 0.26004213692587574\n",
            "800 0.2429406846779662\n",
            "900 0.22800422256726063\n",
            "1000 0.21481951378449635\n",
            "1100 0.20307819060644985\n",
            "1200 0.19254427716706862\n",
            "1300 0.18303333796883503\n",
            "1400 0.17439859438448874\n",
            "1500 0.16652139705400335\n",
            "1600 0.15930451829756614\n",
            "1700 0.15266732471296504\n",
            "1800 0.1465422350398234\n",
            "1900 0.1408720757031016\n",
            "train accuracy: 99.04306220095694 %\n",
            "test accuracy: 70.0 %\n"
          ],
          "name": "stdout"
        }
      ]
    },
    {
      "cell_type": "code",
      "metadata": {
        "colab": {
          "base_uri": "https://localhost:8080/",
          "height": 285
        },
        "id": "oEvnTFA5x1I2",
        "outputId": "d10260db-bdf9-4064-c17d-ac092675f694"
      },
      "source": [
        "# 0이 noncat, 1이 cat\n",
        "index = 20\n",
        "plt.imshow(test_set_x[:,index].reshape((num_px, num_px, 3)))\n",
        "print(test_set_y[0, index])"
      ],
      "execution_count": 67,
      "outputs": [
        {
          "output_type": "stream",
          "text": [
            "1\n"
          ],
          "name": "stdout"
        },
        {
          "output_type": "display_data",
          "data": {
            "image/png": "[encoded data removed]",
            "text/plain": [
              "<Figure size 432x288 with 1 Axes>"
            ]
          },
          "metadata": {
            "tags": [],
            "needs_background": "light"
          }
        }
      ]
    },
    {
      "cell_type": "code",
      "metadata": {
        "colab": {
          "base_uri": "https://localhost:8080/",
          "height": 295
        },
        "id": "xvTXTWF9zOOP",
        "outputId": "af3af139-fc78-4e53-d427-82a28d76598d"
      },
      "source": [
        "# Plot learning curve (with costs)\n",
        "costs = np.squeeze(d['costs'])\n",
        "plt.plot(costs)\n",
        "plt.ylabel('cost')\n",
        "plt.xlabel('iterations (per hundreds)')\n",
        "plt.title(\"Learning rate =\" + str(d[\"learning_rate\"]))\n",
        "plt.show()"
      ],
      "execution_count": 68,
      "outputs": [
        {
          "output_type": "display_data",
          "data": {
            "image/png": "[encoded data removed]",
            "text/plain": [
              "<Figure size 432x288 with 1 Axes>"
            ]
          },
          "metadata": {
            "tags": [],
            "needs_background": "light"
          }
        }
      ]
    },
    {
      "cell_type": "code",
      "metadata": {
        "colab": {
          "base_uri": "https://localhost:8080/",
          "height": 585
        },
        "id": "QrsgrScdzaCB",
        "outputId": "e4094b4e-dfe2-4d28-a65b-a16c6a93aa06"
      },
      "source": [
        "# learning rate 별 costs \n",
        "\n",
        "learning_rates = [0.01, 0.001, 0.0001]\n",
        "models = {}\n",
        "for i in learning_rates:\n",
        "    print (\"learning rate is: \" + str(i))\n",
        "    models[str(i)] = model(train_set_x, train_set_y, test_set_x, test_set_y, num_iterations = 1500, learning_rate = i, print_cost = False)\n",
        "    print ('\\n' + \"-------------------------------------------------------\" + '\\n')\n",
        "\n",
        "for i in learning_rates:\n",
        "    plt.plot(np.squeeze(models[str(i)][\"costs\"]), label= str(models[str(i)][\"learning_rate\"]))\n",
        "\n",
        "plt.ylabel('cost')\n",
        "plt.xlabel('iterations')\n",
        "\n",
        "legend = plt.legend(loc='upper center', shadow=True)\n",
        "frame = legend.get_frame()\n",
        "frame.set_facecolor('0.90')\n",
        "plt.show()"
      ],
      "execution_count": 69,
      "outputs": [
        {
          "output_type": "stream",
          "text": [
            "learning rate is: 0.01\n",
            "train accuracy: 99.52153110047847 %\n",
            "test accuracy: 68.0 %\n",
            "\n",
            "-------------------------------------------------------\n",
            "\n",
            "learning rate is: 0.001\n",
            "train accuracy: 88.99521531100478 %\n",
            "test accuracy: 64.0 %\n",
            "\n",
            "-------------------------------------------------------\n",
            "\n",
            "learning rate is: 0.0001\n",
            "train accuracy: 68.42105263157895 %\n",
            "test accuracy: 36.0 %\n",
            "\n",
            "-------------------------------------------------------\n",
            "\n"
          ],
          "name": "stdout"
        },
        {
          "output_type": "display_data",
          "data": {
            "image/png": "[encoded data removed]",
            "text/plain": [
              "<Figure size 432x288 with 1 Axes>"
            ]
          },
          "metadata": {
            "tags": [],
            "needs_background": "light"
          }
        }
      ]
    }
  ]
}