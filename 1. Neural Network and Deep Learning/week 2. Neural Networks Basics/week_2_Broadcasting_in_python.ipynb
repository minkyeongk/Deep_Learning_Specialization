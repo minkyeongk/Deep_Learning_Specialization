{
  "nbformat": 4,
  "nbformat_minor": 0,
  "metadata": {
    "colab": {
      "name": "week 2. Broadcasting in python.ipynb",
      "provenance": [],
      "authorship_tag": "ABX9TyMT/91ZPsiyACsnB+a/CIac",
      "include_colab_link": true
    },
    "kernelspec": {
      "name": "python3",
      "display_name": "Python 3"
    }
  },
  "cells": [
    {
      "cell_type": "markdown",
      "metadata": {
        "id": "view-in-github",
        "colab_type": "text"
      },
      "source": [
        "<a href=\"https://colab.research.google.com/github/minkyeongk/Deep_Learning_Specialization/blob/main/week_2_Broadcasting_in_python.ipynb\" target=\"_parent\"><img src=\"https://colab.research.google.com/assets/colab-badge.svg\" alt=\"Open In Colab\"/></a>"
      ]
    },
    {
      "cell_type": "code",
      "metadata": {
        "colab": {
          "base_uri": "https://localhost:8080/"
        },
        "id": "cNKKfdAgGPUX",
        "outputId": "6ed58799-9932-4bc3-d84c-266f93249cd3"
      },
      "source": [
        "import numpy as np \n",
        "\n",
        "A = np.array([[56.0, 0.0, 4.4, 68.0],\n",
        "              [1.2, 104.0, 52.0, 8.0],\n",
        "              [1.8, 135.0, 99.0, 0.9]])\n",
        "\n",
        "print(A)"
      ],
      "execution_count": 1,
      "outputs": [
        {
          "output_type": "stream",
          "text": [
            "[[ 56.    0.    4.4  68. ]\n",
            " [  1.2 104.   52.    8. ]\n",
            " [  1.8 135.   99.    0.9]]\n"
          ],
          "name": "stdout"
        }
      ]
    },
    {
      "cell_type": "code",
      "metadata": {
        "colab": {
          "base_uri": "https://localhost:8080/"
        },
        "id": "5Q5D2n9hGv-s",
        "outputId": "2bcb7a48-296b-4dfb-d987-4335bca0bb2e"
      },
      "source": [
        "cal = A.sum(axis = 0)\n",
        "print(cal)"
      ],
      "execution_count": 2,
      "outputs": [
        {
          "output_type": "stream",
          "text": [
            "[ 59.  239.  155.4  76.9]\n"
          ],
          "name": "stdout"
        }
      ]
    },
    {
      "cell_type": "code",
      "metadata": {
        "colab": {
          "base_uri": "https://localhost:8080/"
        },
        "id": "plQMAZ79G74e",
        "outputId": "49e42ab9-d155-4315-d5c5-9e130bd456e1"
      },
      "source": [
        "percent = 100 * A/cal.reshape(1,4)\n",
        "print(percent)\n",
        "# A를 1*4 퍼센트 행렬로 나눔 "
      ],
      "execution_count": 4,
      "outputs": [
        {
          "output_type": "stream",
          "text": [
            "[[94.91525424  0.          2.83140283 88.42652796]\n",
            " [ 2.03389831 43.51464435 33.46203346 10.40312094]\n",
            " [ 3.05084746 56.48535565 63.70656371  1.17035111]]\n"
          ],
          "name": "stdout"
        }
      ]
    }
  ]
}