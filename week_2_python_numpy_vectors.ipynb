{
  "nbformat": 4,
  "nbformat_minor": 0,
  "metadata": {
    "colab": {
      "name": "week 2. python-numpy vectors.ipynb",
      "provenance": [],
      "authorship_tag": "ABX9TyPrZwY93lEe/Dbbw2fZ8tb3",
      "include_colab_link": true
    },
    "kernelspec": {
      "name": "python3",
      "display_name": "Python 3"
    }
  },
  "cells": [
    {
      "cell_type": "markdown",
      "metadata": {
        "id": "view-in-github",
        "colab_type": "text"
      },
      "source": [
        "<a href=\"https://colab.research.google.com/github/minkyeongk/Deep_Learning_Specialization/blob/main/week_2_python_numpy_vectors.ipynb\" target=\"_parent\"><img src=\"https://colab.research.google.com/assets/colab-badge.svg\" alt=\"Open In Colab\"/></a>"
      ]
    },
    {
      "cell_type": "code",
      "metadata": {
        "id": "kbJntJnIL9BP"
      },
      "source": [
        "import numpy as np\n",
        "\n",
        "a = np.random.randn(5)\n",
        "# 임의로 5개의 gaussian 변수를 생성"
      ],
      "execution_count": 3,
      "outputs": []
    },
    {
      "cell_type": "code",
      "metadata": {
        "colab": {
          "base_uri": "https://localhost:8080/"
        },
        "id": "pqLrM_FOMMe3",
        "outputId": "dbde1a6d-ca1f-4f86-e7fa-9cf516a67edf"
      },
      "source": [
        "print(a)"
      ],
      "execution_count": 4,
      "outputs": [
        {
          "output_type": "stream",
          "text": [
            "[ 0.8832434   0.43685144 -0.73716314 -1.91963749 -0.64732679]\n"
          ],
          "name": "stdout"
        }
      ]
    },
    {
      "cell_type": "code",
      "metadata": {
        "colab": {
          "base_uri": "https://localhost:8080/"
        },
        "id": "dGf9a9wvMOPY",
        "outputId": "bbedbe9a-1395-4ffc-f642-970aa416ab2f"
      },
      "source": [
        "print(a.shape)\n",
        "# 대괄호 하나 rank 1 array > neither row vector nor column vector"
      ],
      "execution_count": 5,
      "outputs": [
        {
          "output_type": "stream",
          "text": [
            "(5,)\n"
          ],
          "name": "stdout"
        }
      ]
    },
    {
      "cell_type": "code",
      "metadata": {
        "colab": {
          "base_uri": "https://localhost:8080/"
        },
        "id": "KZsFmIPZMcs4",
        "outputId": "ac23a947-4368-4234-aab9-304c6a024402"
      },
      "source": [
        "print(a.T)"
      ],
      "execution_count": 6,
      "outputs": [
        {
          "output_type": "stream",
          "text": [
            "[ 0.8832434   0.43685144 -0.73716314 -1.91963749 -0.64732679]\n"
          ],
          "name": "stdout"
        }
      ]
    },
    {
      "cell_type": "code",
      "metadata": {
        "colab": {
          "base_uri": "https://localhost:8080/"
        },
        "id": "4VK0VtToMvxB",
        "outputId": "ff684f5d-f71e-462e-e31e-7383bad9a53d"
      },
      "source": [
        "print(np.dot(a, a.T))\n",
        "# transpose: 전치\n",
        "# inner product (내적) 결과 > matrix가 아닌 숫자 "
      ],
      "execution_count": 9,
      "outputs": [
        {
          "output_type": "stream",
          "text": [
            "5.618407667885578\n"
          ],
          "name": "stdout"
        }
      ]
    },
    {
      "cell_type": "code",
      "metadata": {
        "colab": {
          "base_uri": "https://localhost:8080/"
        },
        "id": "4nD13ZZ3M2CY",
        "outputId": "72f63b6c-aea2-4a55-be24-0deb8f0d2671"
      },
      "source": [
        " a = np.random.randn(5, 1) # a가 5*1 세로 벡터가 되도록 \n",
        " print(a)\n",
        " # 대괄호 두개 > matrix "
      ],
      "execution_count": 10,
      "outputs": [
        {
          "output_type": "stream",
          "text": [
            "[[ 0.1361066 ]\n",
            " [-0.49890689]\n",
            " [-0.87696188]\n",
            " [ 0.83152507]\n",
            " [ 0.5207804 ]]\n"
          ],
          "name": "stdout"
        }
      ]
    },
    {
      "cell_type": "code",
      "metadata": {
        "colab": {
          "base_uri": "https://localhost:8080/"
        },
        "id": "rtOEXkdONmnR",
        "outputId": "60f07824-d2b2-43c6-a724-f92ef7cf1eb1"
      },
      "source": [
        "print(a.T)  # 전치 행렬이 row vector의 형태를 보임 "
      ],
      "execution_count": 11,
      "outputs": [
        {
          "output_type": "stream",
          "text": [
            "[[ 0.1361066  -0.49890689 -0.87696188  0.83152507  0.5207804 ]]\n"
          ],
          "name": "stdout"
        }
      ]
    },
    {
      "cell_type": "code",
      "metadata": {
        "colab": {
          "base_uri": "https://localhost:8080/"
        },
        "id": "aNOorrImNwnC",
        "outputId": "5622aab6-8123-4c49-87c0-82fd2665171f"
      },
      "source": [
        "print(np.dot(a, a.T))"
      ],
      "execution_count": 12,
      "outputs": [
        {
          "output_type": "stream",
          "text": [
            "[[ 0.01852501 -0.06790452 -0.1193603   0.11317605  0.07088165]\n",
            " [-0.06790452  0.24890808  0.43752232 -0.41485359 -0.25982093]\n",
            " [-0.1193603   0.43752232  0.76906213 -0.72921579 -0.45670456]\n",
            " [ 0.11317605 -0.41485359 -0.72921579  0.69143394  0.43304196]\n",
            " [ 0.07088165 -0.25982093 -0.45670456  0.43304196  0.27121222]]\n"
          ],
          "name": "stdout"
        }
      ]
    }
  ]
}
